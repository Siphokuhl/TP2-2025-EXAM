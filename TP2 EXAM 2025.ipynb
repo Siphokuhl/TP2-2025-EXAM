{
 "cells": [
  {
   "cell_type": "markdown",
   "id": "13aa3d1a-0c4b-4b84-9595-762eefc767d2",
   "metadata": {},
   "source": [
    "22222778 XULU O.S"
   ]
  },
  {
   "cell_type": "markdown",
   "id": "d578b666-1f39-4417-8d37-ef80020b0a11",
   "metadata": {},
   "source": [
    "IMPORTING LIBRARIES"
   ]
  },
  {
   "cell_type": "code",
   "execution_count": 203,
   "id": "0ab04f9f-db9d-4fab-8757-efae6d6e3d36",
   "metadata": {},
   "outputs": [],
   "source": [
    "\n",
    "import pandas as pd\n",
    "import numpy as np\n",
    "import matplotlib.pyplot as plt\n",
    "import seaborn as sns\n",
    "from sklearn.model_selection import train_test_split\n",
    "from sklearn.ensemble import RandomForestClassifier\n",
    "from sklearn.metrics import classification_report, confusion_matrix, roc_auc_score\n",
    "from sklearn.preprocessing import StandardScaler\n",
    "import warnings\n",
    "from statsmodels.graphics.tsaplots import plot_acf, plot_pacf\n",
    "from statsmodels.tsa.stattools import adfuller\n",
    "from datetime import datetime, timedelta\n",
    "from sklearn.preprocessing import LabelEncoder\n",
    "warnings.filterwarnings('ignore')\n",
    "plt.style.use('seaborn-v0_8')\n",
    "sns.set_palette(\"husl\")"
   ]
  },
  {
   "cell_type": "markdown",
   "id": "a583e02a-e4c6-4cc4-b631-11d4d6316fb4",
   "metadata": {},
   "source": [
    "LOADING THE DATASETS"
   ]
  },
  {
   "cell_type": "code",
   "execution_count": 204,
   "id": "2df4c375-f018-4299-853e-21574691d7c8",
   "metadata": {},
   "outputs": [],
   "source": [
    "df = pd.read_csv(\"C:/Users/owami/Downloads/archive (1)/crime_data.csv\")\n",
    "crime = pd.read_csv(\"C:/Users/owami/Downloads/archive (5)/crime.csv\")"
   ]
  },
  {
   "cell_type": "markdown",
   "id": "f9298354-dfe8-4853-8650-5ed4690b0a33",
   "metadata": {},
   "source": [
    "DATASET RELEVANCY AND LINK"
   ]
  },
  {
   "cell_type": "markdown",
   "id": "3495d7af-38fa-423d-81c0-e8f7628d13d8",
   "metadata": {},
   "source": [
    "This dataset provides detailed information about criminal incidents, capturing various characteristics of both the offenders and victims. It includes records of crimes along with demographic details such as age, gender, race, and the status of the individuals involved. The data also contains information on the disposition of the case (whether it was closed or open) and the nature of the crime.\n",
    "\n",
    "The dataset covers a wide range of crime categories such as theft, vandalism, violence, sexual crimes, and drug/weapon-related offenses. This allows for an in-depth analysis of criminal activities, their impact on different demographics, and potential correlations between various factors such as age, gender, and the type of crime committed.  https://www.kaggle.com/datasets/fatmanur12/crime-data\n",
    "\n",
    "This dataset contains data from 2010 to 2019 about various criminal activities in Bangladesh.\n",
    "Content\n",
    "The data represents different criminal activities and which unit took the case.\n",
    "Unit_Name: Police Unit from a different region\n",
    "Dacoity: The number of violent robberies by an armed gang that year under a specific police unit.\n",
    "Robber: The number of robberies that took place that year under a specific police unit.\n",
    "Murder: The number of murders that took place that year under a specific police unit.\n",
    "Speedy Trial: The number of criminal trials held after a minimal delay that year under a specific police unit.\n",
    "Riot: The number of riots that took place that year under a specific police unit.\n",
    "Women&Children_Represion: The number of women or children who faced domestic violence that year under a specific police unit.\n",
    "Kidnapping: The number of kidnappings that took place that year under a specific police unit.\n",
    "police_Assult: The number of kidnappings that took place that year under a specific police unit.\n",
    "Burglary\n",
    "Theft\n",
    "https://www.kaggle.com/datasets/espsiyam/crime-in-bangladesh\n",
    "\n",
    "\n"
   ]
  },
  {
   "cell_type": "code",
   "execution_count": 205,
   "id": "9e55c3d1-8600-4185-ad52-7de2b11d9a4c",
   "metadata": {},
   "outputs": [
    {
     "name": "stdout",
     "output_type": "stream",
     "text": [
      "Dataset loaded successfully!\n",
      "Dataset shape: (6638, 12)\n",
      "\n",
      "First few rows:\n",
      "  Disposition OffenderStatus Offender_Race Offender_Gender  Offender_Age  \\\n",
      "0      CLOSED       ARRESTED         BLACK            MALE          30.0   \n",
      "1      CLOSED       ARRESTED         BLACK            MALE          30.0   \n",
      "2      CLOSED       ARRESTED         BLACK            MALE          30.0   \n",
      "3      CLOSED       ARRESTED         BLACK            MALE          30.0   \n",
      "4      CLOSED       ARRESTED         BLACK            MALE          30.0   \n",
      "\n",
      "  PersonType Victim_Race Victim_Gender  Victim_Age Victim_Fatal_Status  \\\n",
      "0     VICTIM       BLACK        FEMALE        29.0           Non-fatal   \n",
      "1     VICTIM       BLACK        FEMALE        29.0           Non-fatal   \n",
      "2     VICTIM       BLACK        FEMALE        29.0           Non-fatal   \n",
      "3     VICTIM       BLACK        FEMALE        29.0           Non-fatal   \n",
      "4     VICTIM       BLACK        FEMALE        29.0           Non-fatal   \n",
      "\n",
      "           Report Type Category  \n",
      "0  Supplemental Report    Theft  \n",
      "1  Supplemental Report    Theft  \n",
      "2  Supplemental Report    Theft  \n",
      "3  Supplemental Report    Theft  \n",
      "4  Supplemental Report    Theft  \n"
     ]
    }
   ],
   "source": [
    "print(\"Dataset loaded successfully!\")\n",
    "print(f\"Dataset shape: {df.shape}\")\n",
    "print(\"\\nFirst few rows:\")\n",
    "print(df.head())"
   ]
  },
  {
   "cell_type": "markdown",
   "id": "b3bbc3b8-2d31-4b0c-a7d4-f93a0164ba1a",
   "metadata": {},
   "source": [
    "DATA PREPROCESSING"
   ]
  },
  {
   "cell_type": "code",
   "execution_count": 206,
   "id": "fc13844f-f358-4160-a9c6-aa665f103ec9",
   "metadata": {},
   "outputs": [
    {
     "name": "stdout",
     "output_type": "stream",
     "text": [
      "Data Info:\n",
      "<class 'pandas.core.frame.DataFrame'>\n",
      "RangeIndex: 6638 entries, 0 to 6637\n",
      "Data columns (total 12 columns):\n",
      " #   Column               Non-Null Count  Dtype  \n",
      "---  ------               --------------  -----  \n",
      " 0   Disposition          6638 non-null   object \n",
      " 1   OffenderStatus       6638 non-null   object \n",
      " 2   Offender_Race        6638 non-null   object \n",
      " 3   Offender_Gender      6638 non-null   object \n",
      " 4   Offender_Age         6638 non-null   float64\n",
      " 5   PersonType           6638 non-null   object \n",
      " 6   Victim_Race          6638 non-null   object \n",
      " 7   Victim_Gender        6638 non-null   object \n",
      " 8   Victim_Age           6638 non-null   float64\n",
      " 9   Victim_Fatal_Status  6638 non-null   object \n",
      " 10  Report Type          6638 non-null   object \n",
      " 11  Category             6638 non-null   object \n",
      "dtypes: float64(2), object(10)\n",
      "memory usage: 622.4+ KB\n",
      "None\n",
      "<class 'pandas.core.frame.DataFrame'>\n",
      "RangeIndex: 180 entries, 0 to 179\n",
      "Data columns (total 19 columns):\n",
      " #   Column                    Non-Null Count  Dtype \n",
      "---  ------                    --------------  ----- \n",
      " 0   Year                      180 non-null    int64 \n",
      " 1   Unit_Name                 180 non-null    object\n",
      " 2   Dacoity                   180 non-null    int64 \n",
      " 3   Robber                    180 non-null    int64 \n",
      " 4   Murder                    180 non-null    int64 \n",
      " 5   Speedy Trial              180 non-null    int64 \n",
      " 6   Riot                      180 non-null    int64 \n",
      " 7   Women&Children_Represion  180 non-null    int64 \n",
      " 8   Kidnapping                180 non-null    int64 \n",
      " 9   Police_Assult             180 non-null    int64 \n",
      " 10  Burglary                  180 non-null    int64 \n",
      " 11  Theft                     180 non-null    int64 \n",
      " 12  Other_cases               180 non-null    int64 \n",
      " 13  Arms_act                  180 non-null    int64 \n",
      " 14  Explosive_act             180 non-null    int64 \n",
      " 15  Narcotic_act              180 non-null    int64 \n",
      " 16  Smuggling                 180 non-null    int64 \n",
      " 17  Tot(arm+exp+nar+smu)      180 non-null    int64 \n",
      " 18  Total                     180 non-null    int64 \n",
      "dtypes: int64(18), object(1)\n",
      "memory usage: 26.8+ KB\n",
      "None\n",
      "\n",
      "Missing values:\n",
      "Disposition            0\n",
      "OffenderStatus         0\n",
      "Offender_Race          0\n",
      "Offender_Gender        0\n",
      "Offender_Age           0\n",
      "PersonType             0\n",
      "Victim_Race            0\n",
      "Victim_Gender          0\n",
      "Victim_Age             0\n",
      "Victim_Fatal_Status    0\n",
      "Report Type            0\n",
      "Category               0\n",
      "dtype: int64\n",
      "Year                        0\n",
      "Unit_Name                   0\n",
      "Dacoity                     0\n",
      "Robber                      0\n",
      "Murder                      0\n",
      "Speedy Trial                0\n",
      "Riot                        0\n",
      "Women&Children_Represion    0\n",
      "Kidnapping                  0\n",
      "Police_Assult               0\n",
      "Burglary                    0\n",
      "Theft                       0\n",
      "Other_cases                 0\n",
      "Arms_act                    0\n",
      "Explosive_act               0\n",
      "Narcotic_act                0\n",
      "Smuggling                   0\n",
      "Tot(arm+exp+nar+smu)        0\n",
      "Total                       0\n",
      "dtype: int64\n"
     ]
    }
   ],
   "source": [
    "print(\"Data Info:\")\n",
    "print(df.info())\n",
    "print(crime.info())\n",
    "print(\"\\nMissing values:\")\n",
    "print(df.isnull().sum())\n",
    "print(crime.isnull().sum())"
   ]
  },
  {
   "cell_type": "code",
   "execution_count": 207,
   "id": "f673beb3-c0cc-4abf-8283-03fe14e2ae5d",
   "metadata": {},
   "outputs": [
    {
     "name": "stdout",
     "output_type": "stream",
     "text": [
      "Dataset shape: (6638, 12)\n",
      "Dataset shape: (180, 19)\n",
      "\n",
      "Columns: ['Disposition', 'OffenderStatus', 'Offender_Race', 'Offender_Gender', 'Offender_Age', 'PersonType', 'Victim_Race', 'Victim_Gender', 'Victim_Age', 'Victim_Fatal_Status', 'Report Type', 'Category']\n",
      "\n",
      "columns: ['Year', 'Unit_Name', 'Dacoity', 'Robber', 'Murder', 'Speedy Trial', 'Riot', 'Women&Children_Represion', 'Kidnapping', 'Police_Assult', 'Burglary', 'Theft', 'Other_cases', 'Arms_act', 'Explosive_act', 'Narcotic_act', 'Smuggling', 'Tot(arm+exp+nar+smu)', 'Total']\n",
      "\n",
      "First few rows:\n",
      "  Disposition OffenderStatus Offender_Race Offender_Gender  Offender_Age  \\\n",
      "0      CLOSED       ARRESTED         BLACK            MALE          30.0   \n",
      "1      CLOSED       ARRESTED         BLACK            MALE          30.0   \n",
      "2      CLOSED       ARRESTED         BLACK            MALE          30.0   \n",
      "3      CLOSED       ARRESTED         BLACK            MALE          30.0   \n",
      "4      CLOSED       ARRESTED         BLACK            MALE          30.0   \n",
      "\n",
      "  PersonType Victim_Race Victim_Gender  Victim_Age Victim_Fatal_Status  \\\n",
      "0     VICTIM       BLACK        FEMALE        29.0           Non-fatal   \n",
      "1     VICTIM       BLACK        FEMALE        29.0           Non-fatal   \n",
      "2     VICTIM       BLACK        FEMALE        29.0           Non-fatal   \n",
      "3     VICTIM       BLACK        FEMALE        29.0           Non-fatal   \n",
      "4     VICTIM       BLACK        FEMALE        29.0           Non-fatal   \n",
      "\n",
      "           Report Type Category  \n",
      "0  Supplemental Report    Theft  \n",
      "1  Supplemental Report    Theft  \n",
      "2  Supplemental Report    Theft  \n",
      "3  Supplemental Report    Theft  \n",
      "4  Supplemental Report    Theft  \n",
      "   Year Unit_Name  Dacoity  Robber  Murder  Speedy Trial  Riot  \\\n",
      "0  2010       DMP       47     220     245           363     3   \n",
      "1  2010       CMP       16     108      94            31     7   \n",
      "2  2010       KMP        3       9      29            25     0   \n",
      "3  2010       RMP        4      20      21             9    15   \n",
      "4  2010       BMP        8      12      19            21     0   \n",
      "\n",
      "   Women&Children_Represion  Kidnapping  Police_Assult  Burglary  Theft  \\\n",
      "0                      1370         139            155       555   1915   \n",
      "1                       455          37             31       123    314   \n",
      "2                       153          11              4        65     91   \n",
      "3                       157           9             12        53    106   \n",
      "4                       112           6              8        24     83   \n",
      "\n",
      "   Other_cases  Arms_act  Explosive_act  Narcotic_act  Smuggling  \\\n",
      "0         7228       518             82         10535        144   \n",
      "1         1831        51              0           866         99   \n",
      "2          551        19              2           792         13   \n",
      "3          578         3              4           332        248   \n",
      "4          557        17              0           155        117   \n",
      "\n",
      "   Tot(arm+exp+nar+smu)  Total  \n",
      "0                 11279  23519  \n",
      "1                  1016   4063  \n",
      "2                   826   1767  \n",
      "3                   587   1571  \n",
      "4                   289   1139  \n",
      "\n",
      "Missing values:\n",
      "Disposition            0\n",
      "OffenderStatus         0\n",
      "Offender_Race          0\n",
      "Offender_Gender        0\n",
      "Offender_Age           0\n",
      "PersonType             0\n",
      "Victim_Race            0\n",
      "Victim_Gender          0\n",
      "Victim_Age             0\n",
      "Victim_Fatal_Status    0\n",
      "Report Type            0\n",
      "Category               0\n",
      "dtype: int64\n",
      "Year                        0\n",
      "Unit_Name                   0\n",
      "Dacoity                     0\n",
      "Robber                      0\n",
      "Murder                      0\n",
      "Speedy Trial                0\n",
      "Riot                        0\n",
      "Women&Children_Represion    0\n",
      "Kidnapping                  0\n",
      "Police_Assult               0\n",
      "Burglary                    0\n",
      "Theft                       0\n",
      "Other_cases                 0\n",
      "Arms_act                    0\n",
      "Explosive_act               0\n",
      "Narcotic_act                0\n",
      "Smuggling                   0\n",
      "Tot(arm+exp+nar+smu)        0\n",
      "Total                       0\n",
      "dtype: int64\n"
     ]
    }
   ],
   "source": [
    "print(\"Dataset shape:\", df.shape)\n",
    "print(\"Dataset shape:\", crime.shape)\n",
    "print(\"\\nColumns:\", df.columns.tolist())\n",
    "print(\"\\ncolumns:\" , crime.columns.tolist())\n",
    "print(\"\\nFirst few rows:\")\n",
    "print(df.head())\n",
    "print(crime.head())\n",
    "print(\"\\nMissing values:\")\n",
    "print(df.isnull().sum())\n",
    "print(crime.isnull().sum())"
   ]
  },
  {
   "cell_type": "markdown",
   "id": "0d81df35-8406-4ae2-bcc0-564de79a5e0c",
   "metadata": {},
   "source": [
    "Handling any missing values"
   ]
  },
  {
   "cell_type": "code",
   "execution_count": 208,
   "id": "eece3a92-5bd0-48bc-881b-affefb23c538",
   "metadata": {},
   "outputs": [],
   "source": [
    "df = df.dropna()"
   ]
  },
  {
   "cell_type": "markdown",
   "id": "9a3a28e8-ad31-4f2c-8868-ca506291a45b",
   "metadata": {},
   "source": [
    " Creating hotspot label - top 25% of areas with highest crime counts"
   ]
  },
  {
   "cell_type": "code",
   "execution_count": 209,
   "id": "580c1a0a-0b15-435b-aef9-f178fd54ee31",
   "metadata": {},
   "outputs": [
    {
     "name": "stdout",
     "output_type": "stream",
     "text": [
      "Available columns: ['Disposition', 'OffenderStatus', 'Offender_Race', 'Offender_Gender', 'Offender_Age', 'PersonType', 'Victim_Race', 'Victim_Gender', 'Victim_Age', 'Victim_Fatal_Status', 'Report Type', 'Category']\n",
      "Available columns: ['Year', 'Unit_Name', 'Dacoity', 'Robber', 'Murder', 'Speedy Trial', 'Riot', 'Women&Children_Represion', 'Kidnapping', 'Police_Assult', 'Burglary', 'Theft', 'Other_cases', 'Arms_act', 'Explosive_act', 'Narcotic_act', 'Smuggling', 'Tot(arm+exp+nar+smu)', 'Total']\n"
     ]
    }
   ],
   "source": [
    "print(\"Available columns:\", df.columns.tolist())\n",
    "print(\"Available columns:\" , crime.columns.tolist())"
   ]
  },
  {
   "cell_type": "code",
   "execution_count": 210,
   "id": "7a22984f-ce4d-4e03-8002-a3d7d13500eb",
   "metadata": {},
   "outputs": [],
   "source": [
    "# Create a simplified geographical unit using available columns\n",
    "# We'll use combinations of offender/victim demographics as proxy for areas\n",
    "df['Offender_Race'] = df['Category'] + '_' + df['Offender_Gender'] + '_' + df['Victim_Race']"
   ]
  },
  {
   "cell_type": "markdown",
   "id": "5d580ee8-c76c-45c6-a978-c46a268fdaec",
   "metadata": {},
   "source": [
    "Counts incidents per unit"
   ]
  },
  {
   "cell_type": "code",
   "execution_count": 211,
   "id": "1b5c02eb-5096-4a0f-9c4a-b3afd4bd3101",
   "metadata": {},
   "outputs": [
    {
     "name": "stdout",
     "output_type": "stream",
     "text": [
      "Total unique area units: 6\n"
     ]
    }
   ],
   "source": [
    "# Count incidents per area unit\n",
    "area_crime_counts = df['Category'].value_counts()\n",
    "print(f\"Total unique area units: {len(area_crime_counts)}\")\n"
   ]
  },
  {
   "cell_type": "markdown",
   "id": "14cf334b-be1c-463b-ae51-9c98f07098ee",
   "metadata": {},
   "source": [
    "Define the hotspot top 25% of areas with highest crime counts"
   ]
  },
  {
   "cell_type": "code",
   "execution_count": 212,
   "id": "8ddc7d95-9c7e-45c8-904f-1f99454318f7",
   "metadata": {},
   "outputs": [
    {
     "name": "stdout",
     "output_type": "stream",
     "text": [
      "Hotspot threshold (75th percentile): 1446.25 incidents\n"
     ]
    }
   ],
   "source": [
    "# Define hotspots: top 25% of areas with highest crime counts\n",
    "hotspot_threshold = area_crime_counts.quantile(0.75)\n",
    "print(f\"Hotspot threshold (75th percentile): {hotspot_threshold} incidents\")"
   ]
  },
  {
   "cell_type": "code",
   "execution_count": 213,
   "id": "74c05e2f-b7f1-441f-84e8-224496371ab8",
   "metadata": {},
   "outputs": [],
   "source": [
    "# Create hotspot labels\n",
    "area_hotspot = area_crime_counts > hotspot_threshold\n",
    "hotspot_areas = area_hotspot[area_hotspot].index"
   ]
  },
  {
   "cell_type": "code",
   "execution_count": 214,
   "id": "310fca73-0689-4f71-aaa4-1f4a931f567a",
   "metadata": {},
   "outputs": [
    {
     "name": "stdout",
     "output_type": "stream",
     "text": [
      "Number of hotspot areas: 2\n",
      "Percentage of hotspot areas: 33.33%\n",
      "Hotspot areas sample: ['Violence', 'Theft']\n"
     ]
    }
   ],
   "source": [
    "\n",
    "# Add hotspot label to main dataframe\n",
    "df['is_hotspot'] = df['Category'].isin(hotspot_areas)\n",
    "\n",
    "print(f\"Number of hotspot areas: {len(hotspot_areas)}\")\n",
    "print(f\"Percentage of hotspot areas: {len(hotspot_areas)/len(area_crime_counts)*100:.2f}%\")\n",
    "print(f\"Hotspot areas sample: {list(hotspot_areas[:5])}\")\n",
    "\n",
    "# Prepare features for classification\n",
    "feature_columns = ['Offender_Race', 'Offender_Gender', 'Offender_Age', \n",
    "                  'Victim_Race', 'Victim_Gender', 'Victim_Age', 'Category', 'Report Type']"
   ]
  },
  {
   "cell_type": "code",
   "execution_count": 215,
   "id": "04798a12-2aea-4e35-840e-91da8731029e",
   "metadata": {},
   "outputs": [
    {
     "name": "stdout",
     "output_type": "stream",
     "text": [
      "\n",
      "Missing values before processing:\n",
      "Offender_Race      0\n",
      "Offender_Gender    0\n",
      "Offender_Age       0\n",
      "Victim_Race        0\n",
      "Victim_Gender      0\n",
      "Victim_Age         0\n",
      "Category           0\n",
      "Report Type        0\n",
      "dtype: int64\n"
     ]
    }
   ],
   "source": [
    "# Check for missing values and handle them\n",
    "print(\"\\nMissing values before processing:\")\n",
    "print(df[feature_columns].isnull().sum())\n"
   ]
  },
  {
   "cell_type": "code",
   "execution_count": 216,
   "id": "b1136506-b3e4-4b84-aee6-7287adf2e575",
   "metadata": {},
   "outputs": [],
   "source": [
    "# Fill missing values for age columns\n",
    "df['Offender_Age'] = df['Offender_Age'].fillna(df['Offender_Age'].median())\n",
    "df['Victim_Age'] = df['Victim_Age'].fillna(df['Victim_Age'].median())"
   ]
  },
  {
   "cell_type": "code",
   "execution_count": 217,
   "id": "afbfffc6-96f1-4034-a983-f428e051fec7",
   "metadata": {},
   "outputs": [],
   "source": [
    "# For categorical columns, fill with 'UNKNOWN'\n",
    "categorical_columns = ['Offender_Race', 'Offender_Gender', 'Victim_Race', 'Victim_Gender', 'Category', 'Report Type']\n",
    "for col in categorical_columns:\n",
    "    df[col] = df[col].fillna('UNKNOWN')"
   ]
  },
  {
   "cell_type": "code",
   "execution_count": 218,
   "id": "fe2d0f47-6027-4fbb-9a84-f9079472b0eb",
   "metadata": {},
   "outputs": [
    {
     "name": "stdout",
     "output_type": "stream",
     "text": [
      "Encoded Offender_Race with 39 categories\n",
      "Encoded Offender_Gender with 2 categories\n",
      "Encoded Victim_Race with 6 categories\n",
      "Encoded Victim_Gender with 3 categories\n",
      "Encoded Category with 6 categories\n",
      "Encoded Report Type with 2 categories\n"
     ]
    }
   ],
   "source": [
    "# Encode categorical variables\n",
    "label_encoders = {}\n",
    "for col in feature_columns:\n",
    "    if df[col].dtype == 'object':\n",
    "        le = LabelEncoder()\n",
    "        df[col + '_encoded'] = le.fit_transform(df[col].astype(str))\n",
    "        label_encoders[col] = le\n",
    "        print(f\"Encoded {col} with {len(le.classes_)} categories\")\n"
   ]
  },
  {
   "cell_type": "code",
   "execution_count": 219,
   "id": "4753b0e7-e2d0-401e-ac05-7f4766e99b50",
   "metadata": {},
   "outputs": [
    {
     "name": "stdout",
     "output_type": "stream",
     "text": [
      "Feature matrix shape: (6638, 8)\n"
     ]
    }
   ],
   "source": [
    "# Prepare feature matrix and target\n",
    "X_columns = []\n",
    "for col in feature_columns:\n",
    "    if col + '_encoded' in df.columns:\n",
    "        X_columns.append(col + '_encoded')\n",
    "    else:\n",
    "        X_columns.append(col)  # Use original column if encoded version doesn't exist\n",
    "\n",
    "X = df[X_columns]\n",
    "y = df['is_hotspot']\n",
    "\n",
    "print(f\"Feature matrix shape: {X.shape}\")"
   ]
  },
  {
   "cell_type": "code",
   "execution_count": 220,
   "id": "069e1d8e-8877-400d-a769-4a19ee45a86e",
   "metadata": {},
   "outputs": [
    {
     "name": "stdout",
     "output_type": "stream",
     "text": [
      "Feature matrix shape: (6638, 8)\n"
     ]
    }
   ],
   "source": [
    "# Prepare feature matrix and target\n",
    "X = df[[col if col + '_encoded' not in df.columns else col + '_encoded' for col in feature_columns]]\n",
    "y = df['is_hotspot']\n",
    "\n",
    "print(f\"Feature matrix shape: {X.shape}\")"
   ]
  },
  {
   "cell_type": "code",
   "execution_count": 221,
   "id": "92763acb-f71d-4991-8e5f-9535ea4f0924",
   "metadata": {},
   "outputs": [],
   "source": [
    "# Split data\n",
    "X_train, X_test, y_train, y_test = train_test_split(X, y, test_size=0.3, random_state=42, stratify=y)"
   ]
  },
  {
   "cell_type": "code",
   "execution_count": 222,
   "id": "5ef1f850-5e80-4c96-845f-581f2ffb59a0",
   "metadata": {},
   "outputs": [
    {
     "name": "stdout",
     "output_type": "stream",
     "text": [
      "\n",
      "Training Random Forest classifier...\n"
     ]
    },
    {
     "data": {
      "text/html": [
       "<style>#sk-container-id-4 {\n",
       "  /* Definition of color scheme common for light and dark mode */\n",
       "  --sklearn-color-text: #000;\n",
       "  --sklearn-color-text-muted: #666;\n",
       "  --sklearn-color-line: gray;\n",
       "  /* Definition of color scheme for unfitted estimators */\n",
       "  --sklearn-color-unfitted-level-0: #fff5e6;\n",
       "  --sklearn-color-unfitted-level-1: #f6e4d2;\n",
       "  --sklearn-color-unfitted-level-2: #ffe0b3;\n",
       "  --sklearn-color-unfitted-level-3: chocolate;\n",
       "  /* Definition of color scheme for fitted estimators */\n",
       "  --sklearn-color-fitted-level-0: #f0f8ff;\n",
       "  --sklearn-color-fitted-level-1: #d4ebff;\n",
       "  --sklearn-color-fitted-level-2: #b3dbfd;\n",
       "  --sklearn-color-fitted-level-3: cornflowerblue;\n",
       "\n",
       "  /* Specific color for light theme */\n",
       "  --sklearn-color-text-on-default-background: var(--sg-text-color, var(--theme-code-foreground, var(--jp-content-font-color1, black)));\n",
       "  --sklearn-color-background: var(--sg-background-color, var(--theme-background, var(--jp-layout-color0, white)));\n",
       "  --sklearn-color-border-box: var(--sg-text-color, var(--theme-code-foreground, var(--jp-content-font-color1, black)));\n",
       "  --sklearn-color-icon: #696969;\n",
       "\n",
       "  @media (prefers-color-scheme: dark) {\n",
       "    /* Redefinition of color scheme for dark theme */\n",
       "    --sklearn-color-text-on-default-background: var(--sg-text-color, var(--theme-code-foreground, var(--jp-content-font-color1, white)));\n",
       "    --sklearn-color-background: var(--sg-background-color, var(--theme-background, var(--jp-layout-color0, #111)));\n",
       "    --sklearn-color-border-box: var(--sg-text-color, var(--theme-code-foreground, var(--jp-content-font-color1, white)));\n",
       "    --sklearn-color-icon: #878787;\n",
       "  }\n",
       "}\n",
       "\n",
       "#sk-container-id-4 {\n",
       "  color: var(--sklearn-color-text);\n",
       "}\n",
       "\n",
       "#sk-container-id-4 pre {\n",
       "  padding: 0;\n",
       "}\n",
       "\n",
       "#sk-container-id-4 input.sk-hidden--visually {\n",
       "  border: 0;\n",
       "  clip: rect(1px 1px 1px 1px);\n",
       "  clip: rect(1px, 1px, 1px, 1px);\n",
       "  height: 1px;\n",
       "  margin: -1px;\n",
       "  overflow: hidden;\n",
       "  padding: 0;\n",
       "  position: absolute;\n",
       "  width: 1px;\n",
       "}\n",
       "\n",
       "#sk-container-id-4 div.sk-dashed-wrapped {\n",
       "  border: 1px dashed var(--sklearn-color-line);\n",
       "  margin: 0 0.4em 0.5em 0.4em;\n",
       "  box-sizing: border-box;\n",
       "  padding-bottom: 0.4em;\n",
       "  background-color: var(--sklearn-color-background);\n",
       "}\n",
       "\n",
       "#sk-container-id-4 div.sk-container {\n",
       "  /* jupyter's `normalize.less` sets `[hidden] { display: none; }`\n",
       "     but bootstrap.min.css set `[hidden] { display: none !important; }`\n",
       "     so we also need the `!important` here to be able to override the\n",
       "     default hidden behavior on the sphinx rendered scikit-learn.org.\n",
       "     See: https://github.com/scikit-learn/scikit-learn/issues/21755 */\n",
       "  display: inline-block !important;\n",
       "  position: relative;\n",
       "}\n",
       "\n",
       "#sk-container-id-4 div.sk-text-repr-fallback {\n",
       "  display: none;\n",
       "}\n",
       "\n",
       "div.sk-parallel-item,\n",
       "div.sk-serial,\n",
       "div.sk-item {\n",
       "  /* draw centered vertical line to link estimators */\n",
       "  background-image: linear-gradient(var(--sklearn-color-text-on-default-background), var(--sklearn-color-text-on-default-background));\n",
       "  background-size: 2px 100%;\n",
       "  background-repeat: no-repeat;\n",
       "  background-position: center center;\n",
       "}\n",
       "\n",
       "/* Parallel-specific style estimator block */\n",
       "\n",
       "#sk-container-id-4 div.sk-parallel-item::after {\n",
       "  content: \"\";\n",
       "  width: 100%;\n",
       "  border-bottom: 2px solid var(--sklearn-color-text-on-default-background);\n",
       "  flex-grow: 1;\n",
       "}\n",
       "\n",
       "#sk-container-id-4 div.sk-parallel {\n",
       "  display: flex;\n",
       "  align-items: stretch;\n",
       "  justify-content: center;\n",
       "  background-color: var(--sklearn-color-background);\n",
       "  position: relative;\n",
       "}\n",
       "\n",
       "#sk-container-id-4 div.sk-parallel-item {\n",
       "  display: flex;\n",
       "  flex-direction: column;\n",
       "}\n",
       "\n",
       "#sk-container-id-4 div.sk-parallel-item:first-child::after {\n",
       "  align-self: flex-end;\n",
       "  width: 50%;\n",
       "}\n",
       "\n",
       "#sk-container-id-4 div.sk-parallel-item:last-child::after {\n",
       "  align-self: flex-start;\n",
       "  width: 50%;\n",
       "}\n",
       "\n",
       "#sk-container-id-4 div.sk-parallel-item:only-child::after {\n",
       "  width: 0;\n",
       "}\n",
       "\n",
       "/* Serial-specific style estimator block */\n",
       "\n",
       "#sk-container-id-4 div.sk-serial {\n",
       "  display: flex;\n",
       "  flex-direction: column;\n",
       "  align-items: center;\n",
       "  background-color: var(--sklearn-color-background);\n",
       "  padding-right: 1em;\n",
       "  padding-left: 1em;\n",
       "}\n",
       "\n",
       "\n",
       "/* Toggleable style: style used for estimator/Pipeline/ColumnTransformer box that is\n",
       "clickable and can be expanded/collapsed.\n",
       "- Pipeline and ColumnTransformer use this feature and define the default style\n",
       "- Estimators will overwrite some part of the style using the `sk-estimator` class\n",
       "*/\n",
       "\n",
       "/* Pipeline and ColumnTransformer style (default) */\n",
       "\n",
       "#sk-container-id-4 div.sk-toggleable {\n",
       "  /* Default theme specific background. It is overwritten whether we have a\n",
       "  specific estimator or a Pipeline/ColumnTransformer */\n",
       "  background-color: var(--sklearn-color-background);\n",
       "}\n",
       "\n",
       "/* Toggleable label */\n",
       "#sk-container-id-4 label.sk-toggleable__label {\n",
       "  cursor: pointer;\n",
       "  display: flex;\n",
       "  width: 100%;\n",
       "  margin-bottom: 0;\n",
       "  padding: 0.5em;\n",
       "  box-sizing: border-box;\n",
       "  text-align: center;\n",
       "  align-items: start;\n",
       "  justify-content: space-between;\n",
       "  gap: 0.5em;\n",
       "}\n",
       "\n",
       "#sk-container-id-4 label.sk-toggleable__label .caption {\n",
       "  font-size: 0.6rem;\n",
       "  font-weight: lighter;\n",
       "  color: var(--sklearn-color-text-muted);\n",
       "}\n",
       "\n",
       "#sk-container-id-4 label.sk-toggleable__label-arrow:before {\n",
       "  /* Arrow on the left of the label */\n",
       "  content: \"▸\";\n",
       "  float: left;\n",
       "  margin-right: 0.25em;\n",
       "  color: var(--sklearn-color-icon);\n",
       "}\n",
       "\n",
       "#sk-container-id-4 label.sk-toggleable__label-arrow:hover:before {\n",
       "  color: var(--sklearn-color-text);\n",
       "}\n",
       "\n",
       "/* Toggleable content - dropdown */\n",
       "\n",
       "#sk-container-id-4 div.sk-toggleable__content {\n",
       "  display: none;\n",
       "  text-align: left;\n",
       "  /* unfitted */\n",
       "  background-color: var(--sklearn-color-unfitted-level-0);\n",
       "}\n",
       "\n",
       "#sk-container-id-4 div.sk-toggleable__content.fitted {\n",
       "  /* fitted */\n",
       "  background-color: var(--sklearn-color-fitted-level-0);\n",
       "}\n",
       "\n",
       "#sk-container-id-4 div.sk-toggleable__content pre {\n",
       "  margin: 0.2em;\n",
       "  border-radius: 0.25em;\n",
       "  color: var(--sklearn-color-text);\n",
       "  /* unfitted */\n",
       "  background-color: var(--sklearn-color-unfitted-level-0);\n",
       "}\n",
       "\n",
       "#sk-container-id-4 div.sk-toggleable__content.fitted pre {\n",
       "  /* unfitted */\n",
       "  background-color: var(--sklearn-color-fitted-level-0);\n",
       "}\n",
       "\n",
       "#sk-container-id-4 input.sk-toggleable__control:checked~div.sk-toggleable__content {\n",
       "  /* Expand drop-down */\n",
       "  display: block;\n",
       "  width: 100%;\n",
       "  overflow: visible;\n",
       "}\n",
       "\n",
       "#sk-container-id-4 input.sk-toggleable__control:checked~label.sk-toggleable__label-arrow:before {\n",
       "  content: \"▾\";\n",
       "}\n",
       "\n",
       "/* Pipeline/ColumnTransformer-specific style */\n",
       "\n",
       "#sk-container-id-4 div.sk-label input.sk-toggleable__control:checked~label.sk-toggleable__label {\n",
       "  color: var(--sklearn-color-text);\n",
       "  background-color: var(--sklearn-color-unfitted-level-2);\n",
       "}\n",
       "\n",
       "#sk-container-id-4 div.sk-label.fitted input.sk-toggleable__control:checked~label.sk-toggleable__label {\n",
       "  background-color: var(--sklearn-color-fitted-level-2);\n",
       "}\n",
       "\n",
       "/* Estimator-specific style */\n",
       "\n",
       "/* Colorize estimator box */\n",
       "#sk-container-id-4 div.sk-estimator input.sk-toggleable__control:checked~label.sk-toggleable__label {\n",
       "  /* unfitted */\n",
       "  background-color: var(--sklearn-color-unfitted-level-2);\n",
       "}\n",
       "\n",
       "#sk-container-id-4 div.sk-estimator.fitted input.sk-toggleable__control:checked~label.sk-toggleable__label {\n",
       "  /* fitted */\n",
       "  background-color: var(--sklearn-color-fitted-level-2);\n",
       "}\n",
       "\n",
       "#sk-container-id-4 div.sk-label label.sk-toggleable__label,\n",
       "#sk-container-id-4 div.sk-label label {\n",
       "  /* The background is the default theme color */\n",
       "  color: var(--sklearn-color-text-on-default-background);\n",
       "}\n",
       "\n",
       "/* On hover, darken the color of the background */\n",
       "#sk-container-id-4 div.sk-label:hover label.sk-toggleable__label {\n",
       "  color: var(--sklearn-color-text);\n",
       "  background-color: var(--sklearn-color-unfitted-level-2);\n",
       "}\n",
       "\n",
       "/* Label box, darken color on hover, fitted */\n",
       "#sk-container-id-4 div.sk-label.fitted:hover label.sk-toggleable__label.fitted {\n",
       "  color: var(--sklearn-color-text);\n",
       "  background-color: var(--sklearn-color-fitted-level-2);\n",
       "}\n",
       "\n",
       "/* Estimator label */\n",
       "\n",
       "#sk-container-id-4 div.sk-label label {\n",
       "  font-family: monospace;\n",
       "  font-weight: bold;\n",
       "  display: inline-block;\n",
       "  line-height: 1.2em;\n",
       "}\n",
       "\n",
       "#sk-container-id-4 div.sk-label-container {\n",
       "  text-align: center;\n",
       "}\n",
       "\n",
       "/* Estimator-specific */\n",
       "#sk-container-id-4 div.sk-estimator {\n",
       "  font-family: monospace;\n",
       "  border: 1px dotted var(--sklearn-color-border-box);\n",
       "  border-radius: 0.25em;\n",
       "  box-sizing: border-box;\n",
       "  margin-bottom: 0.5em;\n",
       "  /* unfitted */\n",
       "  background-color: var(--sklearn-color-unfitted-level-0);\n",
       "}\n",
       "\n",
       "#sk-container-id-4 div.sk-estimator.fitted {\n",
       "  /* fitted */\n",
       "  background-color: var(--sklearn-color-fitted-level-0);\n",
       "}\n",
       "\n",
       "/* on hover */\n",
       "#sk-container-id-4 div.sk-estimator:hover {\n",
       "  /* unfitted */\n",
       "  background-color: var(--sklearn-color-unfitted-level-2);\n",
       "}\n",
       "\n",
       "#sk-container-id-4 div.sk-estimator.fitted:hover {\n",
       "  /* fitted */\n",
       "  background-color: var(--sklearn-color-fitted-level-2);\n",
       "}\n",
       "\n",
       "/* Specification for estimator info (e.g. \"i\" and \"?\") */\n",
       "\n",
       "/* Common style for \"i\" and \"?\" */\n",
       "\n",
       ".sk-estimator-doc-link,\n",
       "a:link.sk-estimator-doc-link,\n",
       "a:visited.sk-estimator-doc-link {\n",
       "  float: right;\n",
       "  font-size: smaller;\n",
       "  line-height: 1em;\n",
       "  font-family: monospace;\n",
       "  background-color: var(--sklearn-color-background);\n",
       "  border-radius: 1em;\n",
       "  height: 1em;\n",
       "  width: 1em;\n",
       "  text-decoration: none !important;\n",
       "  margin-left: 0.5em;\n",
       "  text-align: center;\n",
       "  /* unfitted */\n",
       "  border: var(--sklearn-color-unfitted-level-1) 1pt solid;\n",
       "  color: var(--sklearn-color-unfitted-level-1);\n",
       "}\n",
       "\n",
       ".sk-estimator-doc-link.fitted,\n",
       "a:link.sk-estimator-doc-link.fitted,\n",
       "a:visited.sk-estimator-doc-link.fitted {\n",
       "  /* fitted */\n",
       "  border: var(--sklearn-color-fitted-level-1) 1pt solid;\n",
       "  color: var(--sklearn-color-fitted-level-1);\n",
       "}\n",
       "\n",
       "/* On hover */\n",
       "div.sk-estimator:hover .sk-estimator-doc-link:hover,\n",
       ".sk-estimator-doc-link:hover,\n",
       "div.sk-label-container:hover .sk-estimator-doc-link:hover,\n",
       ".sk-estimator-doc-link:hover {\n",
       "  /* unfitted */\n",
       "  background-color: var(--sklearn-color-unfitted-level-3);\n",
       "  color: var(--sklearn-color-background);\n",
       "  text-decoration: none;\n",
       "}\n",
       "\n",
       "div.sk-estimator.fitted:hover .sk-estimator-doc-link.fitted:hover,\n",
       ".sk-estimator-doc-link.fitted:hover,\n",
       "div.sk-label-container:hover .sk-estimator-doc-link.fitted:hover,\n",
       ".sk-estimator-doc-link.fitted:hover {\n",
       "  /* fitted */\n",
       "  background-color: var(--sklearn-color-fitted-level-3);\n",
       "  color: var(--sklearn-color-background);\n",
       "  text-decoration: none;\n",
       "}\n",
       "\n",
       "/* Span, style for the box shown on hovering the info icon */\n",
       ".sk-estimator-doc-link span {\n",
       "  display: none;\n",
       "  z-index: 9999;\n",
       "  position: relative;\n",
       "  font-weight: normal;\n",
       "  right: .2ex;\n",
       "  padding: .5ex;\n",
       "  margin: .5ex;\n",
       "  width: min-content;\n",
       "  min-width: 20ex;\n",
       "  max-width: 50ex;\n",
       "  color: var(--sklearn-color-text);\n",
       "  box-shadow: 2pt 2pt 4pt #999;\n",
       "  /* unfitted */\n",
       "  background: var(--sklearn-color-unfitted-level-0);\n",
       "  border: .5pt solid var(--sklearn-color-unfitted-level-3);\n",
       "}\n",
       "\n",
       ".sk-estimator-doc-link.fitted span {\n",
       "  /* fitted */\n",
       "  background: var(--sklearn-color-fitted-level-0);\n",
       "  border: var(--sklearn-color-fitted-level-3);\n",
       "}\n",
       "\n",
       ".sk-estimator-doc-link:hover span {\n",
       "  display: block;\n",
       "}\n",
       "\n",
       "/* \"?\"-specific style due to the `<a>` HTML tag */\n",
       "\n",
       "#sk-container-id-4 a.estimator_doc_link {\n",
       "  float: right;\n",
       "  font-size: 1rem;\n",
       "  line-height: 1em;\n",
       "  font-family: monospace;\n",
       "  background-color: var(--sklearn-color-background);\n",
       "  border-radius: 1rem;\n",
       "  height: 1rem;\n",
       "  width: 1rem;\n",
       "  text-decoration: none;\n",
       "  /* unfitted */\n",
       "  color: var(--sklearn-color-unfitted-level-1);\n",
       "  border: var(--sklearn-color-unfitted-level-1) 1pt solid;\n",
       "}\n",
       "\n",
       "#sk-container-id-4 a.estimator_doc_link.fitted {\n",
       "  /* fitted */\n",
       "  border: var(--sklearn-color-fitted-level-1) 1pt solid;\n",
       "  color: var(--sklearn-color-fitted-level-1);\n",
       "}\n",
       "\n",
       "/* On hover */\n",
       "#sk-container-id-4 a.estimator_doc_link:hover {\n",
       "  /* unfitted */\n",
       "  background-color: var(--sklearn-color-unfitted-level-3);\n",
       "  color: var(--sklearn-color-background);\n",
       "  text-decoration: none;\n",
       "}\n",
       "\n",
       "#sk-container-id-4 a.estimator_doc_link.fitted:hover {\n",
       "  /* fitted */\n",
       "  background-color: var(--sklearn-color-fitted-level-3);\n",
       "}\n",
       "\n",
       ".estimator-table summary {\n",
       "    padding: .5rem;\n",
       "    font-family: monospace;\n",
       "    cursor: pointer;\n",
       "}\n",
       "\n",
       ".estimator-table details[open] {\n",
       "    padding-left: 0.1rem;\n",
       "    padding-right: 0.1rem;\n",
       "    padding-bottom: 0.3rem;\n",
       "}\n",
       "\n",
       ".estimator-table .parameters-table {\n",
       "    margin-left: auto !important;\n",
       "    margin-right: auto !important;\n",
       "}\n",
       "\n",
       ".estimator-table .parameters-table tr:nth-child(odd) {\n",
       "    background-color: #fff;\n",
       "}\n",
       "\n",
       ".estimator-table .parameters-table tr:nth-child(even) {\n",
       "    background-color: #f6f6f6;\n",
       "}\n",
       "\n",
       ".estimator-table .parameters-table tr:hover {\n",
       "    background-color: #e0e0e0;\n",
       "}\n",
       "\n",
       ".estimator-table table td {\n",
       "    border: 1px solid rgba(106, 105, 104, 0.232);\n",
       "}\n",
       "\n",
       ".user-set td {\n",
       "    color:rgb(255, 94, 0);\n",
       "    text-align: left;\n",
       "}\n",
       "\n",
       ".user-set td.value pre {\n",
       "    color:rgb(255, 94, 0) !important;\n",
       "    background-color: transparent !important;\n",
       "}\n",
       "\n",
       ".default td {\n",
       "    color: black;\n",
       "    text-align: left;\n",
       "}\n",
       "\n",
       ".user-set td i,\n",
       ".default td i {\n",
       "    color: black;\n",
       "}\n",
       "\n",
       ".copy-paste-icon {\n",
       "    background-image: url(data:image/svg+xml;base64,PHN2ZyB4bWxucz0iaHR0cDovL3d3dy53My5vcmcvMjAwMC9zdmciIHZpZXdCb3g9IjAgMCA0NDggNTEyIj48IS0tIUZvbnQgQXdlc29tZSBGcmVlIDYuNy4yIGJ5IEBmb250YXdlc29tZSAtIGh0dHBzOi8vZm9udGF3ZXNvbWUuY29tIExpY2Vuc2UgLSBodHRwczovL2ZvbnRhd2Vzb21lLmNvbS9saWNlbnNlL2ZyZWUgQ29weXJpZ2h0IDIwMjUgRm9udGljb25zLCBJbmMuLS0+PHBhdGggZD0iTTIwOCAwTDMzMi4xIDBjMTIuNyAwIDI0LjkgNS4xIDMzLjkgMTQuMWw2Ny45IDY3LjljOSA5IDE0LjEgMjEuMiAxNC4xIDMzLjlMNDQ4IDMzNmMwIDI2LjUtMjEuNSA0OC00OCA0OGwtMTkyIDBjLTI2LjUgMC00OC0yMS41LTQ4LTQ4bDAtMjg4YzAtMjYuNSAyMS41LTQ4IDQ4LTQ4ek00OCAxMjhsODAgMCAwIDY0LTY0IDAgMCAyNTYgMTkyIDAgMC0zMiA2NCAwIDAgNDhjMCAyNi41LTIxLjUgNDgtNDggNDhMNDggNTEyYy0yNi41IDAtNDgtMjEuNS00OC00OEwwIDE3NmMwLTI2LjUgMjEuNS00OCA0OC00OHoiLz48L3N2Zz4=);\n",
       "    background-repeat: no-repeat;\n",
       "    background-size: 14px 14px;\n",
       "    background-position: 0;\n",
       "    display: inline-block;\n",
       "    width: 14px;\n",
       "    height: 14px;\n",
       "    cursor: pointer;\n",
       "}\n",
       "</style><body><div id=\"sk-container-id-4\" class=\"sk-top-container\"><div class=\"sk-text-repr-fallback\"><pre>RandomForestClassifier(random_state=42)</pre><b>In a Jupyter environment, please rerun this cell to show the HTML representation or trust the notebook. <br />On GitHub, the HTML representation is unable to render, please try loading this page with nbviewer.org.</b></div><div class=\"sk-container\" hidden><div class=\"sk-item\"><div class=\"sk-estimator fitted sk-toggleable\"><input class=\"sk-toggleable__control sk-hidden--visually\" id=\"sk-estimator-id-4\" type=\"checkbox\" checked><label for=\"sk-estimator-id-4\" class=\"sk-toggleable__label fitted sk-toggleable__label-arrow\"><div><div>RandomForestClassifier</div></div><div><a class=\"sk-estimator-doc-link fitted\" rel=\"noreferrer\" target=\"_blank\" href=\"https://scikit-learn.org/1.7/modules/generated/sklearn.ensemble.RandomForestClassifier.html\">?<span>Documentation for RandomForestClassifier</span></a><span class=\"sk-estimator-doc-link fitted\">i<span>Fitted</span></span></div></label><div class=\"sk-toggleable__content fitted\" data-param-prefix=\"\">\n",
       "        <div class=\"estimator-table\">\n",
       "            <details>\n",
       "                <summary>Parameters</summary>\n",
       "                <table class=\"parameters-table\">\n",
       "                  <tbody>\n",
       "                    \n",
       "        <tr class=\"default\">\n",
       "            <td><i class=\"copy-paste-icon\"\n",
       "                 onclick=\"copyToClipboard('n_estimators',\n",
       "                          this.parentElement.nextElementSibling)\"\n",
       "            ></i></td>\n",
       "            <td class=\"param\">n_estimators&nbsp;</td>\n",
       "            <td class=\"value\">100</td>\n",
       "        </tr>\n",
       "    \n",
       "\n",
       "        <tr class=\"default\">\n",
       "            <td><i class=\"copy-paste-icon\"\n",
       "                 onclick=\"copyToClipboard('criterion',\n",
       "                          this.parentElement.nextElementSibling)\"\n",
       "            ></i></td>\n",
       "            <td class=\"param\">criterion&nbsp;</td>\n",
       "            <td class=\"value\">&#x27;gini&#x27;</td>\n",
       "        </tr>\n",
       "    \n",
       "\n",
       "        <tr class=\"default\">\n",
       "            <td><i class=\"copy-paste-icon\"\n",
       "                 onclick=\"copyToClipboard('max_depth',\n",
       "                          this.parentElement.nextElementSibling)\"\n",
       "            ></i></td>\n",
       "            <td class=\"param\">max_depth&nbsp;</td>\n",
       "            <td class=\"value\">None</td>\n",
       "        </tr>\n",
       "    \n",
       "\n",
       "        <tr class=\"default\">\n",
       "            <td><i class=\"copy-paste-icon\"\n",
       "                 onclick=\"copyToClipboard('min_samples_split',\n",
       "                          this.parentElement.nextElementSibling)\"\n",
       "            ></i></td>\n",
       "            <td class=\"param\">min_samples_split&nbsp;</td>\n",
       "            <td class=\"value\">2</td>\n",
       "        </tr>\n",
       "    \n",
       "\n",
       "        <tr class=\"default\">\n",
       "            <td><i class=\"copy-paste-icon\"\n",
       "                 onclick=\"copyToClipboard('min_samples_leaf',\n",
       "                          this.parentElement.nextElementSibling)\"\n",
       "            ></i></td>\n",
       "            <td class=\"param\">min_samples_leaf&nbsp;</td>\n",
       "            <td class=\"value\">1</td>\n",
       "        </tr>\n",
       "    \n",
       "\n",
       "        <tr class=\"default\">\n",
       "            <td><i class=\"copy-paste-icon\"\n",
       "                 onclick=\"copyToClipboard('min_weight_fraction_leaf',\n",
       "                          this.parentElement.nextElementSibling)\"\n",
       "            ></i></td>\n",
       "            <td class=\"param\">min_weight_fraction_leaf&nbsp;</td>\n",
       "            <td class=\"value\">0.0</td>\n",
       "        </tr>\n",
       "    \n",
       "\n",
       "        <tr class=\"default\">\n",
       "            <td><i class=\"copy-paste-icon\"\n",
       "                 onclick=\"copyToClipboard('max_features',\n",
       "                          this.parentElement.nextElementSibling)\"\n",
       "            ></i></td>\n",
       "            <td class=\"param\">max_features&nbsp;</td>\n",
       "            <td class=\"value\">&#x27;sqrt&#x27;</td>\n",
       "        </tr>\n",
       "    \n",
       "\n",
       "        <tr class=\"default\">\n",
       "            <td><i class=\"copy-paste-icon\"\n",
       "                 onclick=\"copyToClipboard('max_leaf_nodes',\n",
       "                          this.parentElement.nextElementSibling)\"\n",
       "            ></i></td>\n",
       "            <td class=\"param\">max_leaf_nodes&nbsp;</td>\n",
       "            <td class=\"value\">None</td>\n",
       "        </tr>\n",
       "    \n",
       "\n",
       "        <tr class=\"default\">\n",
       "            <td><i class=\"copy-paste-icon\"\n",
       "                 onclick=\"copyToClipboard('min_impurity_decrease',\n",
       "                          this.parentElement.nextElementSibling)\"\n",
       "            ></i></td>\n",
       "            <td class=\"param\">min_impurity_decrease&nbsp;</td>\n",
       "            <td class=\"value\">0.0</td>\n",
       "        </tr>\n",
       "    \n",
       "\n",
       "        <tr class=\"default\">\n",
       "            <td><i class=\"copy-paste-icon\"\n",
       "                 onclick=\"copyToClipboard('bootstrap',\n",
       "                          this.parentElement.nextElementSibling)\"\n",
       "            ></i></td>\n",
       "            <td class=\"param\">bootstrap&nbsp;</td>\n",
       "            <td class=\"value\">True</td>\n",
       "        </tr>\n",
       "    \n",
       "\n",
       "        <tr class=\"default\">\n",
       "            <td><i class=\"copy-paste-icon\"\n",
       "                 onclick=\"copyToClipboard('oob_score',\n",
       "                          this.parentElement.nextElementSibling)\"\n",
       "            ></i></td>\n",
       "            <td class=\"param\">oob_score&nbsp;</td>\n",
       "            <td class=\"value\">False</td>\n",
       "        </tr>\n",
       "    \n",
       "\n",
       "        <tr class=\"default\">\n",
       "            <td><i class=\"copy-paste-icon\"\n",
       "                 onclick=\"copyToClipboard('n_jobs',\n",
       "                          this.parentElement.nextElementSibling)\"\n",
       "            ></i></td>\n",
       "            <td class=\"param\">n_jobs&nbsp;</td>\n",
       "            <td class=\"value\">None</td>\n",
       "        </tr>\n",
       "    \n",
       "\n",
       "        <tr class=\"user-set\">\n",
       "            <td><i class=\"copy-paste-icon\"\n",
       "                 onclick=\"copyToClipboard('random_state',\n",
       "                          this.parentElement.nextElementSibling)\"\n",
       "            ></i></td>\n",
       "            <td class=\"param\">random_state&nbsp;</td>\n",
       "            <td class=\"value\">42</td>\n",
       "        </tr>\n",
       "    \n",
       "\n",
       "        <tr class=\"default\">\n",
       "            <td><i class=\"copy-paste-icon\"\n",
       "                 onclick=\"copyToClipboard('verbose',\n",
       "                          this.parentElement.nextElementSibling)\"\n",
       "            ></i></td>\n",
       "            <td class=\"param\">verbose&nbsp;</td>\n",
       "            <td class=\"value\">0</td>\n",
       "        </tr>\n",
       "    \n",
       "\n",
       "        <tr class=\"default\">\n",
       "            <td><i class=\"copy-paste-icon\"\n",
       "                 onclick=\"copyToClipboard('warm_start',\n",
       "                          this.parentElement.nextElementSibling)\"\n",
       "            ></i></td>\n",
       "            <td class=\"param\">warm_start&nbsp;</td>\n",
       "            <td class=\"value\">False</td>\n",
       "        </tr>\n",
       "    \n",
       "\n",
       "        <tr class=\"default\">\n",
       "            <td><i class=\"copy-paste-icon\"\n",
       "                 onclick=\"copyToClipboard('class_weight',\n",
       "                          this.parentElement.nextElementSibling)\"\n",
       "            ></i></td>\n",
       "            <td class=\"param\">class_weight&nbsp;</td>\n",
       "            <td class=\"value\">None</td>\n",
       "        </tr>\n",
       "    \n",
       "\n",
       "        <tr class=\"default\">\n",
       "            <td><i class=\"copy-paste-icon\"\n",
       "                 onclick=\"copyToClipboard('ccp_alpha',\n",
       "                          this.parentElement.nextElementSibling)\"\n",
       "            ></i></td>\n",
       "            <td class=\"param\">ccp_alpha&nbsp;</td>\n",
       "            <td class=\"value\">0.0</td>\n",
       "        </tr>\n",
       "    \n",
       "\n",
       "        <tr class=\"default\">\n",
       "            <td><i class=\"copy-paste-icon\"\n",
       "                 onclick=\"copyToClipboard('max_samples',\n",
       "                          this.parentElement.nextElementSibling)\"\n",
       "            ></i></td>\n",
       "            <td class=\"param\">max_samples&nbsp;</td>\n",
       "            <td class=\"value\">None</td>\n",
       "        </tr>\n",
       "    \n",
       "\n",
       "        <tr class=\"default\">\n",
       "            <td><i class=\"copy-paste-icon\"\n",
       "                 onclick=\"copyToClipboard('monotonic_cst',\n",
       "                          this.parentElement.nextElementSibling)\"\n",
       "            ></i></td>\n",
       "            <td class=\"param\">monotonic_cst&nbsp;</td>\n",
       "            <td class=\"value\">None</td>\n",
       "        </tr>\n",
       "    \n",
       "                  </tbody>\n",
       "                </table>\n",
       "            </details>\n",
       "        </div>\n",
       "    </div></div></div></div></div><script>function copyToClipboard(text, element) {\n",
       "    // Get the parameter prefix from the closest toggleable content\n",
       "    const toggleableContent = element.closest('.sk-toggleable__content');\n",
       "    const paramPrefix = toggleableContent ? toggleableContent.dataset.paramPrefix : '';\n",
       "    const fullParamName = paramPrefix ? `${paramPrefix}${text}` : text;\n",
       "\n",
       "    const originalStyle = element.style;\n",
       "    const computedStyle = window.getComputedStyle(element);\n",
       "    const originalWidth = computedStyle.width;\n",
       "    const originalHTML = element.innerHTML.replace('Copied!', '');\n",
       "\n",
       "    navigator.clipboard.writeText(fullParamName)\n",
       "        .then(() => {\n",
       "            element.style.width = originalWidth;\n",
       "            element.style.color = 'green';\n",
       "            element.innerHTML = \"Copied!\";\n",
       "\n",
       "            setTimeout(() => {\n",
       "                element.innerHTML = originalHTML;\n",
       "                element.style = originalStyle;\n",
       "            }, 2000);\n",
       "        })\n",
       "        .catch(err => {\n",
       "            console.error('Failed to copy:', err);\n",
       "            element.style.color = 'red';\n",
       "            element.innerHTML = \"Failed!\";\n",
       "            setTimeout(() => {\n",
       "                element.innerHTML = originalHTML;\n",
       "                element.style = originalStyle;\n",
       "            }, 2000);\n",
       "        });\n",
       "    return false;\n",
       "}\n",
       "\n",
       "document.querySelectorAll('.fa-regular.fa-copy').forEach(function(element) {\n",
       "    const toggleableContent = element.closest('.sk-toggleable__content');\n",
       "    const paramPrefix = toggleableContent ? toggleableContent.dataset.paramPrefix : '';\n",
       "    const paramName = element.parentElement.nextElementSibling.textContent.trim();\n",
       "    const fullParamName = paramPrefix ? `${paramPrefix}${paramName}` : paramName;\n",
       "\n",
       "    element.setAttribute('title', fullParamName);\n",
       "});\n",
       "</script></body>"
      ],
      "text/plain": [
       "RandomForestClassifier(random_state=42)"
      ]
     },
     "execution_count": 222,
     "metadata": {},
     "output_type": "execute_result"
    }
   ],
   "source": [
    "# Build Random Forest classifier\n",
    "print(\"\\nTraining Random Forest classifier...\")\n",
    "rf_model = RandomForestClassifier(n_estimators=100, random_state=42)\n",
    "rf_model.fit(X_train, y_train)"
   ]
  },
  {
   "cell_type": "code",
   "execution_count": 223,
   "id": "b7e4075a-fc41-4e2a-9775-fe670d58f87b",
   "metadata": {},
   "outputs": [
    {
     "name": "stdout",
     "output_type": "stream",
     "text": [
      "\n",
      "Classification Report:\n",
      "              precision    recall  f1-score   support\n",
      "\n",
      "       False       1.00      1.00      1.00       489\n",
      "        True       1.00      1.00      1.00      1503\n",
      "\n",
      "    accuracy                           1.00      1992\n",
      "   macro avg       1.00      1.00      1.00      1992\n",
      "weighted avg       1.00      1.00      1.00      1992\n",
      "\n"
     ]
    }
   ],
   "source": [
    "# Evaluate model\n",
    "y_pred = rf_model.predict(X_test)\n",
    "print(\"\\nClassification Report:\")\n",
    "print(classification_report(y_test, y_pred))\n"
   ]
  },
  {
   "cell_type": "code",
   "execution_count": 224,
   "id": "434ad9ff-04eb-4f42-81f1-63b6d09da52f",
   "metadata": {},
   "outputs": [
    {
     "name": "stdout",
     "output_type": "stream",
     "text": [
      "\n",
      "Feature Importance:\n",
      "           feature  importance\n",
      "0    Offender_Race    0.546242\n",
      "6         Category    0.412623\n",
      "5       Victim_Age    0.011664\n",
      "2     Offender_Age    0.010132\n",
      "7      Report Type    0.008279\n",
      "3      Victim_Race    0.005964\n",
      "1  Offender_Gender    0.002923\n",
      "4    Victim_Gender    0.002173\n"
     ]
    }
   ],
   "source": [
    "# Feature importance\n",
    "feature_importance = pd.DataFrame({\n",
    "    'feature': [col.replace('_encoded', '') for col in X.columns],\n",
    "    'importance': rf_model.feature_importances_\n",
    "}).sort_values('importance', ascending=False)\n",
    "\n",
    "print(\"\\nFeature Importance:\")\n",
    "print(feature_importance)\n"
   ]
  },
  {
   "cell_type": "markdown",
   "id": "1c645ff6-1dd9-4019-bd06-cbe1e607e51b",
   "metadata": {},
   "source": [
    "VISUALIZATIONS"
   ]
  },
  {
   "cell_type": "code",
   "execution_count": 225,
   "id": "4fd3ea32-4fa4-41a1-bb13-746520ccb1f0",
   "metadata": {},
   "outputs": [
    {
     "data": {
      "text/plain": [
       "Text(158.22222222222223, 0.5, 'Actual')"
      ]
     },
     "execution_count": 225,
     "metadata": {},
     "output_type": "execute_result"
    },
    {
     "data": {
      "image/png": "[encoded data removed]",
      "text/plain": [
       "<Figure size 1500x500 with 2 Axes>"
      ]
     },
     "metadata": {},
     "output_type": "display_data"
    }
   ],
   "source": [
    "plt.figure(figsize=(15, 5))\n",
    "\n",
    "# Plot 1: Confusion Matrix\n",
    "plt.subplot(1, 3, 1)\n",
    "cm = confusion_matrix(y_test, y_pred)\n",
    "sns.heatmap(cm, annot=True, fmt='d', cmap='Blues', \n",
    "           xticklabels=['Non-Hotspot', 'Hotspot'],\n",
    "           yticklabels=['Non-Hotspot', 'Hotspot'])\n",
    "plt.title('Confusion Matrix')\n",
    "plt.xlabel('Predicted')\n",
    "plt.ylabel('Actual')"
   ]
  },
  {
   "cell_type": "code",
   "execution_count": 226,
   "id": "78036c18-6e70-4b40-8868-4bef1f249199",
   "metadata": {},
   "outputs": [
    {
     "data": {
      "text/plain": [
       "Text(0.5, 0, 'Importance Score')"
      ]
     },
     "execution_count": 226,
     "metadata": {},
     "output_type": "execute_result"
    },
    {
     "data": {
      "image/png": "[encoded data removed]",
      "text/plain": [
       "<Figure size 800x550 with 1 Axes>"
      ]
     },
     "metadata": {},
     "output_type": "display_data"
    }
   ],
   "source": [
    "# Plot 2: Feature Importance\n",
    "plt.subplot(1, 3, 2)\n",
    "sns.barplot(data=feature_importance.head(10), x='importance', y='feature')\n",
    "plt.title('Top 10 Feature Importance')\n",
    "plt.xlabel('Importance Score')\n"
   ]
  },
  {
   "cell_type": "code",
   "execution_count": 227,
   "id": "089ed695-9df1-483d-b150-49369ba81b9e",
   "metadata": {},
   "outputs": [
    {
     "data": {
      "image/png": "[encoded data removed]",
      "text/plain": [
       "<Figure size 800x550 with 1 Axes>"
      ]
     },
     "metadata": {},
     "output_type": "display_data"
    }
   ],
   "source": [
    "#Plot 3: Hotspot distribution\n",
    "plt.subplot(1, 3, 3)\n",
    "hotspot_dist = df['is_hotspot'].value_counts()\n",
    "plt.pie(hotspot_dist.values, labels=['Non-Hotspot', 'Hotspot'], autopct='%1.1f%%', colors=['lightblue', 'red'])\n",
    "plt.title('Hotspot Distribution')\n",
    "\n",
    "plt.tight_layout()\n",
    "plt.show()\n"
   ]
  },
  {
   "cell_type": "markdown",
   "id": "8d336eb1-0300-454f-ba5a-fa84cfc289c8",
   "metadata": {},
   "source": [
    "POLICY IMPLICATIONS"
   ]
  },
  {
   "cell_type": "code",
   "execution_count": 228,
   "id": "195fc8af-0289-483a-8a9a-9e1be1b7415b",
   "metadata": {},
   "outputs": [
    {
     "name": "stdout",
     "output_type": "stream",
     "text": [
      "\n",
      "==================================================\n",
      "POLICY IMPLICATIONS & RESOURCE ALLOCATION STRATEGY\n",
      "==================================================\n",
      "1. PATROL ALLOCATION:\n",
      "   - Focus on 2 identified hotspot areas\n",
      "   - Increase patrol frequency in high-risk categories\n",
      "\n",
      "2. COMMUNITY POLICING:\n",
      "   - Target community outreach in hotspot demographics\n",
      "   - Implement neighborhood watch programs\n",
      "\n",
      "3. TECHNOLOGY DEPLOYMENT:\n",
      "   - Install surveillance in predicted hotspot areas\n",
      "   - Deploy predictive policing algorithms\n",
      "   - Use mobile patrol apps for real-time monitoring\n"
     ]
    }
   ],
   "source": [
    "# Policy implications\n",
    "print(\"\\n\" + \"=\"*50)\n",
    "print(\"POLICY IMPLICATIONS & RESOURCE ALLOCATION STRATEGY\")\n",
    "print(\"=\"*50)\n",
    "print(\"1. PATROL ALLOCATION:\")\n",
    "print(f\"   - Focus on {len(hotspot_areas)} identified hotspot areas\")\n",
    "print(\"   - Increase patrol frequency in high-risk categories\")\n",
    "\n",
    "print(\"\\n2. COMMUNITY POLICING:\")\n",
    "print(\"   - Target community outreach in hotspot demographics\")\n",
    "print(\"   - Implement neighborhood watch programs\")\n",
    "\n",
    "print(\"\\n3. TECHNOLOGY DEPLOYMENT:\")\n",
    "print(\"   - Install surveillance in predicted hotspot areas\")\n",
    "print(\"   - Deploy predictive policing algorithms\")\n",
    "print(\"   - Use mobile patrol apps for real-time monitoring\")"
   ]
  },
  {
   "cell_type": "markdown",
   "id": "4c79cfd4-51e1-4feb-9c01-222fe7334f59",
   "metadata": {},
   "source": [
    "B.FORECASTING CRIME TRENDS WITH ARIMA"
   ]
  },
  {
   "cell_type": "code",
   "execution_count": 229,
   "id": "86e11579-da45-450a-805e-618d5a976f5b",
   "metadata": {},
   "outputs": [
    {
     "name": "stdout",
     "output_type": "stream",
     "text": [
      "Creating synthetic timeline for forecasting demonstration...\n"
     ]
    }
   ],
   "source": [
    "# Since the dataset doesn't have actual dates, we'll create a synthetic timeline\n",
    "# This simulates how the model would work with real temporal data\n",
    "print(\"Creating synthetic timeline for forecasting demonstration...\")\n"
   ]
  },
  {
   "cell_type": "code",
   "execution_count": 230,
   "id": "38742388-6b86-43f8-a8b5-9e5e0a5906fc",
   "metadata": {},
   "outputs": [],
   "source": [
    "# Create a date range covering the period of our data\n",
    "start_date = datetime(2020, 1, 1)\n",
    "df['incident_date'] = [start_date + timedelta(days=i) for i in range(len(df))]\n"
   ]
  },
  {
   "cell_type": "code",
   "execution_count": 231,
   "id": "4a17b147-fd30-48d3-8735-08bd170e7cd4",
   "metadata": {},
   "outputs": [],
   "source": [
    "\n",
    "# First, create theft_data by filtering the dataframe\n",
    "theft_data = df[df['Category'] == 'Theft'].copy()\n",
    "\n",
    "# Then aggregate by month\n",
    "theft_data['year_month'] = theft_data['incident_date'].dt.to_period('M')\n",
    "monthly_theft = theft_data.groupby('year_month').size()\n"
   ]
  },
  {
   "cell_type": "code",
   "execution_count": 232,
   "id": "14cb6e63-f23d-4b05-9c4d-3d7a3d6ba6cb",
   "metadata": {},
   "outputs": [
    {
     "name": "stdout",
     "output_type": "stream",
     "text": [
      "Monthly Theft Data Summary:\n",
      "       theft_count\n",
      "count   217.000000\n",
      "mean      7.000000\n",
      "std       4.547079\n",
      "min       1.000000\n",
      "25%       4.000000\n",
      "50%       6.000000\n",
      "75%       9.000000\n",
      "max      29.000000\n"
     ]
    }
   ],
   "source": [
    "# Convert to time series\n",
    "monthly_theft_ts = monthly_theft.reset_index()\n",
    "monthly_theft_ts.columns = ['date', 'theft_count']\n",
    "monthly_theft_ts['date'] = monthly_theft_ts['date'].dt.to_timestamp()\n",
    "monthly_theft_ts = monthly_theft_ts.set_index('date')\n",
    "\n",
    "print(\"Monthly Theft Data Summary:\")\n",
    "print(monthly_theft_ts.describe())"
   ]
  },
  {
   "cell_type": "code",
   "execution_count": 233,
   "id": "936ef642-a45d-4054-993e-82e4387f1ef8",
   "metadata": {},
   "outputs": [
    {
     "name": "stdout",
     "output_type": "stream",
     "text": [
      "\n",
      "Stationarity Check for Original Series:\n",
      "ADF Statistic: -13.3592\n",
      "p-value: 0.0000\n",
      "Series is stationary (reject null hypothesis)\n"
     ]
    }
   ],
   "source": [
    "# Check stationarity\n",
    "def check_stationarity(timeseries):\n",
    "    result = adfuller(timeseries.dropna())\n",
    "    print(f'ADF Statistic: {result[0]:.4f}')\n",
    "    print(f'p-value: {result[1]:.4f}')\n",
    "    if result[1] < 0.05:\n",
    "        print(\"Series is stationary (reject null hypothesis)\")\n",
    "    else:\n",
    "        print(\"Series is non-stationary (fail to reject null hypothesis)\")\n",
    "    return result[1] < 0.05\n",
    "\n",
    "print(\"\\nStationarity Check for Original Series:\")\n",
    "is_stationary = check_stationarity(monthly_theft_ts['theft_count'])\n"
   ]
  },
  {
   "cell_type": "code",
   "execution_count": 234,
   "id": "906aca05-af70-4bd9-ad0e-ea50f0d8ba2f",
   "metadata": {},
   "outputs": [],
   "source": [
    "# Make data stationary if needed\n",
    "if not is_stationary:\n",
    "    print(\"\\nDifferencing the series to achieve stationarity...\")\n",
    "    monthly_theft_ts['theft_count_diff'] = monthly_theft_ts['theft_count'].diff().dropna()\n",
    "    is_stationary_diff = check_stationarity(monthly_theft_ts['theft_count_diff'].dropna())\n",
    "    \n",
    "    if is_stationary_diff:\n",
    "        ts_data = monthly_theft_ts['theft_count_diff'].dropna()\n",
    "        use_diff = True\n",
    "        print(\"Using differenced series for modeling\")\n",
    "    else:\n",
    "        ts_data = monthly_theft_ts['theft_count']\n",
    "        use_diff = False\n",
    "        print(\"Using original series (differencing didn't help)\")\n",
    "else:\n",
    "    ts_data = monthly_theft_ts['theft_count']\n",
    "    use_diff = False"
   ]
  },
  {
   "cell_type": "code",
   "execution_count": 235,
   "id": "6d05f22c-3649-4b49-8999-580ff5381917",
   "metadata": {},
   "outputs": [
    {
     "data": {
      "text/plain": [
       "<Figure size 1500x1000 with 0 Axes>"
      ]
     },
     "execution_count": 235,
     "metadata": {},
     "output_type": "execute_result"
    },
    {
     "data": {
      "text/plain": [
       "<Figure size 1500x1000 with 0 Axes>"
      ]
     },
     "metadata": {},
     "output_type": "display_data"
    }
   ],
   "source": [
    "# Plot ACF and PACF to determine ARIMA parameters\n",
    "plt.figure(figsize=(15, 10))"
   ]
  },
  {
   "cell_type": "code",
   "execution_count": 236,
   "id": "8aad665a-78e1-4c29-b791-1b443c2852ff",
   "metadata": {},
   "outputs": [
    {
     "data": {
      "image/png": "[encoded data removed]",
      "text/plain": [
       "<Figure size 800x550 with 1 Axes>"
      ]
     },
     "metadata": {},
     "output_type": "display_data"
    }
   ],
   "source": [
    "# Original time series\n",
    "plt.subplot(3, 2, 1)\n",
    "plt.plot(monthly_theft_ts['theft_count'])\n",
    "plt.title('Original Theft Time Series')\n",
    "plt.xlabel('Date')\n",
    "plt.ylabel('Theft Count')\n",
    "plt.grid(True, alpha=0.3)"
   ]
  },
  {
   "cell_type": "code",
   "execution_count": 237,
   "id": "c1ac6ba0-e8d4-4389-a627-68b178d24e5e",
   "metadata": {},
   "outputs": [
    {
     "name": "stdout",
     "output_type": "stream",
     "text": [
      "ADF Statistic: -13.3592\n",
      "p-value: 0.0000\n",
      "Series is stationary (reject null hypothesis)\n"
     ]
    },
    {
     "data": {
      "image/png": "[encoded data removed]",
      "text/plain": [
       "<Figure size 800x550 with 1 Axes>"
      ]
     },
     "metadata": {},
     "output_type": "display_data"
    }
   ],
   "source": [
    "# Make sure use_diff is defined before this point\n",
    "# Add this before the plotting code:\n",
    "\n",
    "use_diff = False  # Default value\n",
    "ts_data = monthly_theft_ts['theft_count']  # Default to original series\n",
    "\n",
    "# Check stationarity and set use_diff accordingly\n",
    "is_stationary = check_stationarity(monthly_theft_ts['theft_count'])\n",
    "\n",
    "if not is_stationary:\n",
    "    print(\"\\nDifferencing the series to achieve stationarity...\")\n",
    "    monthly_theft_ts['theft_count_diff'] = monthly_theft_ts['theft_count'].diff().dropna()\n",
    "    is_stationary_diff = check_stationarity(monthly_theft_ts['theft_count_diff'].dropna())\n",
    "    \n",
    "    if is_stationary_diff:\n",
    "        ts_data = monthly_theft_ts['theft_count_diff'].dropna()\n",
    "        use_diff = True\n",
    "        print(\"Using differenced series for modeling\")\n",
    "    else:\n",
    "        ts_data = monthly_theft_ts['theft_count']\n",
    "        use_diff = False\n",
    "        print(\"Using original series (differencing didn't help)\")\n",
    "else:\n",
    "    ts_data = monthly_theft_ts['theft_count']\n",
    "    use_diff = False\n",
    "\n",
    "# Now the plotting code will work\n",
    "if use_diff:\n",
    "    plt.subplot(3, 2, 2)\n",
    "    plt.plot(ts_data)\n",
    "    plt.title('Differenced Theft Time Series')\n",
    "    plt.xlabel('Date')\n",
    "    plt.ylabel('Differenced Theft Count')\n",
    "    plt.grid(True, alpha=0.3)\n",
    "else:\n",
    "    plt.subplot(3, 2, 2)\n",
    "    plt.plot(ts_data)\n",
    "    plt.title('Stationary Theft Time Series')\n",
    "    plt.xlabel('Date')\n",
    "    plt.ylabel('Theft Count')\n",
    "    plt.grid(True, alpha=0.3)"
   ]
  },
  {
   "cell_type": "code",
   "execution_count": 238,
   "id": "ddf9e79a-9ce0-4959-9b7e-5d30c9c54ea7",
   "metadata": {},
   "outputs": [
    {
     "data": {
      "image/png": "[encoded data removed]",
      "text/plain": [
       "<Figure size 800x550 with 2 Axes>"
      ]
     },
     "metadata": {},
     "output_type": "display_data"
    }
   ],
   "source": [
    "\n",
    "# ACF and PACF plots\n",
    "plt.subplot(3, 2, 3)\n",
    "plot_acf(ts_data, ax=plt.gca(), lags=min(20, len(ts_data)-1))\n",
    "plt.title('Autocorrelation Function')\n",
    "\n",
    "plt.subplot(3, 2, 4)\n",
    "plot_pacf(ts_data, ax=plt.gca(), lags=min(20, len(ts_data)-1))\n",
    "plt.title('Partial Autocorrelation Function')\n",
    "\n",
    "plt.tight_layout()\n",
    "plt.show()\n"
   ]
  },
  {
   "cell_type": "code",
   "execution_count": 239,
   "id": "379faf8d-b25e-4b9c-bd67-c2448315e102",
   "metadata": {},
   "outputs": [
    {
     "name": "stdout",
     "output_type": "stream",
     "text": [
      "\n",
      "Searching for optimal ARIMA parameters...\n"
     ]
    }
   ],
   "source": [
    "# Find best ARIMA parameters\n",
    "print(\"\\nSearching for optimal ARIMA parameters...\")\n",
    "best_aic = np.inf\n",
    "best_order = None\n",
    "best_model = None"
   ]
  },
  {
   "cell_type": "code",
   "execution_count": 287,
   "id": "4df95152-d253-4ef9-a2a7-69bda6d34e5b",
   "metadata": {},
   "outputs": [
    {
     "name": "stdout",
     "output_type": "stream",
     "text": [
      "Best ARIMA Order: None\n",
      "Best AIC: inf\n"
     ]
    }
   ],
   "source": [
    "# Test different ARIMA orders\n",
    "for p in range(3):\n",
    "    for d in range(2):\n",
    "        for q in range(3):\n",
    "            try:\n",
    "                if len(ts_data) > (p + d + q + 1):  # Ensure enough data points\n",
    "                    model = ARIMA(ts_data, order=(p, d, q))\n",
    "                    fitted_model = model.fit()\n",
    "                    if fitted_model.aic < best_aic:\n",
    "                        best_aic = fitted_model.aic\n",
    "                        best_order = (p, d, q)\n",
    "                        best_model = fitted_model\n",
    "            except Exception as e:\n",
    "                continue\n",
    "\n",
    "print(f\"Best ARIMA Order: {best_order}\")\n",
    "print(f\"Best AIC: {best_aic:.2f}\")"
   ]
  },
  {
   "cell_type": "code",
   "execution_count": 288,
   "id": "767ab2b6-5ba9-4fe3-9b70-e7aff14921cd",
   "metadata": {},
   "outputs": [],
   "source": [
    "# Fit final model with best parameters\n",
    "# Make sure you fit the ARIMA model first\n",
    "if best_order is not None:\n",
    "    final_model = ARIMA(ts_data, order=best_order)\n",
    "    fitted_final = final_model.fit()  # This defines fitted_final\n",
    "    \n",
    "    # Now this code will work\n",
    "    forecast_steps = 12\n",
    "    forecast = fitted_final.get_forecast(steps=forecast_steps)\n",
    "    forecast_index = pd.date_range(start=ts_data.index[-1] + pd.DateOffset(months=1), \n",
    "                                 periods=forecast_steps, freq='M')"
   ]
  },
  {
   "cell_type": "code",
   "execution_count": 289,
   "id": "81c97646-7407-4b6d-b9df-1e23ba32a9b5",
   "metadata": {},
   "outputs": [
    {
     "data": {
      "image/png": "[encoded data removed]",
      "text/plain": [
       "<Figure size 800x550 with 1 Axes>"
      ]
     },
     "metadata": {},
     "output_type": "display_data"
    }
   ],
   "source": [
    "  \n",
    "    # Plot historical data\n",
    "    if use_diff:\n",
    "        # For differenced series, we need to reconstruct the original scale\n",
    "        historical_original = monthly_theft_ts['theft_count'].dropna()\n",
    "        plt.plot(historical_original.index, historical_original.values, \n",
    "                label='Historical', color='blue', linewidth=2)\n",
    "    else:\n",
    "        plt.plot(ts_data.index, ts_data.values, label='Historical', \n",
    "                color='blue', linewidth=2)"
   ]
  },
  {
   "cell_type": "code",
   "execution_count": 327,
   "id": "fed38a77-d65f-4950-ae4e-878d3f678d5e",
   "metadata": {},
   "outputs": [
    {
     "ename": "IndentationError",
     "evalue": "unindent does not match any outer indentation level (<string>, line 4)",
     "output_type": "error",
     "traceback": [
      "  \u001b[36mFile \u001b[39m\u001b[32m<string>:4\u001b[39m\n\u001b[31m    \u001b[39m\u001b[31mplt.fill_between(forecast_index,\u001b[39m\n                                    ^\n\u001b[31mIndentationError\u001b[39m\u001b[31m:\u001b[39m unindent does not match any outer indentation level\n"
     ]
    }
   ],
   "source": [
    " # Plot forecast\n",
    "   plt.plot(forecast_index, forecast.predicted_mean,)\n",
    "        label='Forecast', color='red', linewidth=2))\n",
    "    plt.fill_between(forecast_index,\n",
    "                     forecast.conf_int().iloc[:, 0],\n",
    "                     forecast.conf_int().iloc[:, 1],\n",
    "                     color=('red', alpha=0.2, label='95% Confidence Interval')\n",
    "    plt.title('Theft Crime Forecast (12 Months)')\n",
    "    plt.xlabel('Date')\n",
    "    plt.ylabel('Theft Count')\n",
    "    plt.legend()\n",
    "    plt.grid(True, alpha=0.3)"
   ]
  },
  {
   "cell_type": "code",
   "execution_count": 299,
   "id": "6a68e517-5991-48bf-afbd-288bb153b97d",
   "metadata": {},
   "outputs": [
    {
     "data": {
      "text/plain": [
       "([<matplotlib.axis.XTick at 0x1c888f24a50>,\n",
       "  <matplotlib.axis.XTick at 0x1c888f27c50>,\n",
       "  <matplotlib.axis.XTick at 0x1c888f4c410>,\n",
       "  <matplotlib.axis.XTick at 0x1c888f4cb90>,\n",
       "  <matplotlib.axis.XTick at 0x1c888f4d310>,\n",
       "  <matplotlib.axis.XTick at 0x1c888f4da90>,\n",
       "  <matplotlib.axis.XTick at 0x1c888f4e210>,\n",
       "  <matplotlib.axis.XTick at 0x1c888f4e990>,\n",
       "  <matplotlib.axis.XTick at 0x1c888f4f110>,\n",
       "  <matplotlib.axis.XTick at 0x1c888f4f890>,\n",
       "  <matplotlib.axis.XTick at 0x1c888f64050>,\n",
       "  <matplotlib.axis.XTick at 0x1c888f647d0>],\n",
       " [Text(1, 0, 'Jan'),\n",
       "  Text(2, 0, 'Feb'),\n",
       "  Text(3, 0, 'Mar'),\n",
       "  Text(4, 0, 'Apr'),\n",
       "  Text(5, 0, 'May'),\n",
       "  Text(6, 0, 'Jun'),\n",
       "  Text(7, 0, 'Jul'),\n",
       "  Text(8, 0, 'Aug'),\n",
       "  Text(9, 0, 'Sep'),\n",
       "  Text(10, 0, 'Oct'),\n",
       "  Text(11, 0, 'Nov'),\n",
       "  Text(12, 0, 'Dec')])"
      ]
     },
     "execution_count": 299,
     "metadata": {},
     "output_type": "execute_result"
    },
    {
     "data": {
      "image/png": "[encoded data removed]",
      "text/plain": [
       "<Figure size 800x550 with 1 Axes>"
      ]
     },
     "metadata": {},
     "output_type": "display_data"
    }
   ],
   "source": [
    "# Remove the extra indentation - all code should be properly aligned\n",
    "plt.subplot(2, 2, 2)\n",
    "monthly_pattern = theft_data.groupby(theft_data['incident_date'].dt.month).size()\n",
    "plt.bar(monthly_pattern.index, monthly_pattern.values, color='skyblue', alpha=0.7)\n",
    "plt.title('Monthly Theft Pattern')\n",
    "plt.xlabel('Month')\n",
    "plt.ylabel('Average Theft Count')\n",
    "plt.xticks(range(1, 13), ['Jan', 'Feb', 'Mar', 'Apr', 'May', 'Jun', \n",
    "                         'Jul', 'Aug', 'Sep', 'Oct', 'Nov', 'Dec'])"
   ]
  },
  {
   "cell_type": "code",
   "execution_count": 328,
   "id": "ec811593-f0bf-48e3-82c0-e3e2c962655d",
   "metadata": {},
   "outputs": [
    {
     "ename": "IndentationError",
     "evalue": "unexpected indent (1327793040.py, line 2)",
     "output_type": "error",
     "traceback": [
      "  \u001b[36mCell\u001b[39m\u001b[36m \u001b[39m\u001b[32mIn[328]\u001b[39m\u001b[32m, line 2\u001b[39m\n\u001b[31m    \u001b[39m\u001b[31mplt.subplot(2, 2, 3)\u001b[39m\n    ^\n\u001b[31mIndentationError\u001b[39m\u001b[31m:\u001b[39m unexpected indent\n"
     ]
    }
   ],
   "source": [
    "# Plot 3: Forecast details\n",
    "    plt.subplot(2, 2, 3)\n",
    "    forecast_values = forecast.predicted_mean\n",
    "    confidence_intervals = forecast.conf_int()\n",
    "    \n",
    "    plt.bar(range(len(forecast_values)), forecast_values, \n",
    "            color='lightcoral', alpha=0.7, label='Predicted')\n",
    "    "
   ]
  },
  {
   "cell_type": "code",
   "execution_count": 329,
   "id": "f3f129a3-6452-4b38-b372-c683cb61ea22",
   "metadata": {},
   "outputs": [
    {
     "ename": "IndentationError",
     "evalue": "unexpected indent (1846459520.py, line 2)",
     "output_type": "error",
     "traceback": [
      "  \u001b[36mCell\u001b[39m\u001b[36m \u001b[39m\u001b[32mIn[329]\u001b[39m\u001b[32m, line 2\u001b[39m\n\u001b[31m    \u001b[39m\u001b[31mfor i, (pred, lower, upper) in enumerate(zip(forecast_values,\u001b[39m\n    ^\n\u001b[31mIndentationError\u001b[39m\u001b[31m:\u001b[39m unexpected indent\n"
     ]
    }
   ],
   "source": [
    "# Add error bars for confidence intervals\n",
    "    for i, (pred, lower, upper) in enumerate(zip(forecast_values,\n",
    "                                               confidence_intervals.iloc[:, 0],\n",
    "                                               confidence_intervals.iloc[:, 1])):\n",
    "        plt.plot([i, i], [lower, upper], color='darkred', linewidth=2)\n",
    "    \n",
    "    plt.title('Detailed 12-Month Forecast with Confidence Intervals')\n",
    "    plt.xlabel('Months Ahead')\n",
    "    plt.ylabel('Predicted Theft Count')\n",
    "    plt.legend()\n",
    "    plt.grid(True, alpha=0.3)"
   ]
  },
  {
   "cell_type": "code",
   "execution_count": 330,
   "id": "e62c1ab2-3230-48c4-ad4f-9bcffe953076",
   "metadata": {},
   "outputs": [
    {
     "ename": "IndentationError",
     "evalue": "unexpected indent (1635260853.py, line 2)",
     "output_type": "error",
     "traceback": [
      "  \u001b[36mCell\u001b[39m\u001b[36m \u001b[39m\u001b[32mIn[330]\u001b[39m\u001b[32m, line 2\u001b[39m\n\u001b[31m    \u001b[39m\u001b[31mplt.subplot(2, 2, 4)\u001b[39m\n    ^\n\u001b[31mIndentationError\u001b[39m\u001b[31m:\u001b[39m unexpected indent\n"
     ]
    }
   ],
   "source": [
    "# Plot 4: Model residuals\n",
    "    plt.subplot(2, 2, 4)\n",
    "    residuals = fitted_final.resid\n",
    "    plt.plot(residuals)\n",
    "    plt.title('Model Residuals')\n",
    "    plt.xlabel('Time')\n",
    "    plt.ylabel('Residuals')\n",
    "    plt.axhline(y=0, color='r', linestyle='--')\n",
    "    plt.grid(True, alpha=0.3)\n",
    "    \n",
    "    plt.tight_layout()\n",
    "    plt.show()\n",
    "    "
   ]
  },
  {
   "cell_type": "code",
   "execution_count": 303,
   "id": "b0ac9ee4-f4c1-43d2-817c-569a7d01b067",
   "metadata": {},
   "outputs": [
    {
     "ename": "IndentationError",
     "evalue": "unexpected indent (3379250671.py, line 2)",
     "output_type": "error",
     "traceback": [
      "  \u001b[36mCell\u001b[39m\u001b[36m \u001b[39m\u001b[32mIn[303]\u001b[39m\u001b[32m, line 2\u001b[39m\n\u001b[31m    \u001b[39m\u001b[31mprint(\"\\n\" + \"=\"*60)\u001b[39m\n    ^\n\u001b[31mIndentationError\u001b[39m\u001b[31m:\u001b[39m unexpected indent\n"
     ]
    }
   ],
   "source": [
    " # Print forecast results\n",
    "    print(\"\\n\" + \"=\"*60)\n",
    "    print(\"12-MONTH THEFT CRIME FORECAST\")\n",
    "    print(\"=\"*60)\n",
    "    \n",
    "    for i, (date, pred, lower, upper) in enumerate(zip(forecast_index, \n",
    "                                                     forecast.predicted_mean,\n",
    "                                                     forecast.conf_int().iloc[:, 0],\n",
    "                                                     forecast.conf_int().iloc[:, 1])):\n",
    "        print(f\"{date.strftime('%Y-%m')}: {pred:.1f} thefts (95% CI: {lower:.1f} - {upper:.1f})\")\n",
    "    "
   ]
  },
  {
   "cell_type": "code",
   "execution_count": 304,
   "id": "42cc4b98-b20a-41ac-990e-e98bc74d9654",
   "metadata": {},
   "outputs": [
    {
     "ename": "IndentationError",
     "evalue": "unexpected indent (798569990.py, line 2)",
     "output_type": "error",
     "traceback": [
      "  \u001b[36mCell\u001b[39m\u001b[36m \u001b[39m\u001b[32mIn[304]\u001b[39m\u001b[32m, line 2\u001b[39m\n\u001b[31m    \u001b[39m\u001b[31mif len(forecast.predicted_mean) > 1:\u001b[39m\n    ^\n\u001b[31mIndentationError\u001b[39m\u001b[31m:\u001b[39m unexpected indent\n"
     ]
    }
   ],
   "source": [
    " # Calculate trend\n",
    "    if len(forecast.predicted_mean) > 1:\n",
    "        trend = (forecast.predicted_mean[-1] - forecast.predicted_mean[0]) / forecast.predicted_mean[0] * 100\n",
    "        print(f\"\\nOverall Trend: {trend:+.1f}% over 12 months\")\n",
    "    "
   ]
  },
  {
   "cell_type": "code",
   "execution_count": 332,
   "id": "2353f45d-f982-4af0-934a-9b64aef4f975",
   "metadata": {},
   "outputs": [
    {
     "ename": "IndentationError",
     "evalue": "unexpected indent (3931567665.py, line 1)",
     "output_type": "error",
     "traceback": [
      "  \u001b[36mCell\u001b[39m\u001b[36m \u001b[39m\u001b[32mIn[332]\u001b[39m\u001b[32m, line 1\u001b[39m\n\u001b[31m    \u001b[39m\u001b[31mprint(\"PRACTICAL IMPLICATIONS FOR DECISION MAKERS\")\u001b[39m\n    ^\n\u001b[31mIndentationError\u001b[39m\u001b[31m:\u001b[39m unexpected indent\n"
     ]
    }
   ],
   "source": [
    "    \n",
    "    print(\"PRACTICAL IMPLICATIONS FOR DECISION MAKERS\")\n",
    "    print(\"=\"*60)\n",
    "    \n",
    "    print(\"\\n1. RESOURCE ALLOCATION:\")\n",
    "    avg_forecast = forecast.predicted_mean.mean()\n",
    "    print(f\"   - Average predicted thefts: {avg_forecast:.1f} per month\")\n",
    "    print(\"   - Adjust patrol schedules based on monthly predictions\")\n",
    "    \n",
    "    print(\"\\n2. SEASONAL PREPARATION:\")\n",
    "    print(\"   - December: Increase retail theft prevention\")\n",
    "    print(\"   - Summer months: Boost residential area patrols\")\n",
    "    print(\"   - Holiday seasons: Enhanced surveillance\")\n",
    "    \n",
    "    print(\"\\n3. PREVENTIVE MEASURES:\")\n",
    "    print(\"   - Target hardening in vulnerable areas\")\n",
    "    print(\"   - Community awareness campaigns\")\n",
    "    print(\"   - Business security partnerships\")\n",
    "    \n",
    "else:\n",
    "    print(\"Could not find suitable ARIMA model with current data\")\n"
   ]
  },
  {
   "cell_type": "code",
   "execution_count": null,
   "id": "70f46d55-988d-40f8-a36b-d890041f9004",
   "metadata": {},
   "outputs": [],
   "source": []
  }
 ],
 "metadata": {
  "kernelspec": {
   "display_name": "Python 3 (ipykernel)",
   "language": "python",
   "name": "python3"
  },
  "language_info": {
   "codemirror_mode": {
    "name": "ipython",
    "version": 3
   },
   "file_extension": ".py",
   "mimetype": "text/x-python",
   "name": "python",
   "nbconvert_exporter": "python",
   "pygments_lexer": "ipython3",
   "version": "3.13.2"
  }
 },
 "nbformat": 4,
 "nbformat_minor": 5
}
